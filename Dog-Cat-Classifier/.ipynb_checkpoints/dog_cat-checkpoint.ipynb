{
 "cells": [
  {
   "cell_type": "code",
   "execution_count": 3,
   "metadata": {},
   "outputs": [],
   "source": [
    "from __future__ import print_function\n",
    "\n",
    "import argparse\n",
    "import csv\n",
    "import os\n",
    "import os.path\n",
    "import shutil\n",
    "import time\n",
    "import matplotlib.pyplot as plt\n",
    "import numpy\n",
    "from random import shuffle\n",
    "%matplotlib inline\n",
    "\n",
    "import numpy as np\n",
    "import torch\n",
    "import torch.backends.cudnn as cudnn\n",
    "import torch.nn as nn\n",
    "import torch.nn.parallel\n",
    "import torch.optim as optim\n",
    "import torch.utils.data as data\n",
    "import torchvision.datasets as datasets\n",
    "import torchvision.models as models\n",
    "import torchvision.transforms as transforms\n",
    "import torch.nn.functional as F\n",
    "from torch.autograd import Variable\n",
    "\n",
    "import glob\n",
    "import cv2\n",
    "\n",
    "# The module also provides a number of factory functions, \n",
    "# including functions to load images from files, and to create new images.\n",
    "from PIL import Image"
   ]
  },
  {
   "cell_type": "markdown",
   "metadata": {},
   "source": [
    "# Load Data Class"
   ]
  },
  {
   "cell_type": "code",
   "execution_count": 4,
   "metadata": {},
   "outputs": [],
   "source": [
    "class DatasetCatDog(data.Dataset):\n",
    "    def __init__(self, root, transform=None):\n",
    "        images = []\n",
    "        for filename in os.listdir(root):\n",
    "            if filename.endswith('jpg'):\n",
    "                images.append('{}'.format(filename))\n",
    "\n",
    "        self.root = root\n",
    "        self.imgs = images\n",
    "        self.transform = transform\n",
    "\n",
    "    def __getitem__(self, index):\n",
    "        filename = self.imgs[index]\n",
    "        img = Image.open(os.path.join(self.root, filename))\n",
    "        if self.transform is not None:\n",
    "            img = self.transform(img)\n",
    "        return img, filename\n",
    "\n",
    "    def __len__(self):\n",
    "        return len(self.imgs)"
   ]
  },
  {
   "cell_type": "code",
   "execution_count": 5,
   "metadata": {},
   "outputs": [
    {
     "name": "stdout",
     "output_type": "stream",
     "text": [
      "/home/aims/Documents/AMMI-tutorials/Pytorch/Dog_Cat_Classifier\n"
     ]
    }
   ],
   "source": [
    "!pwd"
   ]
  },
  {
   "cell_type": "code",
   "execution_count": 6,
   "metadata": {},
   "outputs": [],
   "source": [
    "path = '/home/aims/Documents/AMMI-tutorials/Pytorch/Dog_Cat_Classifier/train'\n",
    "data = DatasetCatDog(path)"
   ]
  },
  {
   "cell_type": "code",
   "execution_count": 72,
   "metadata": {},
   "outputs": [
    {
     "name": "stdout",
     "output_type": "stream",
     "text": [
      "dog.9901.jpg\n",
      "dog.8021.jpg\n"
     ]
    },
    {
     "data": {
      "image/png": "[encoded data removed]",
      "text/plain": [
       "<Figure size 432x288 with 2 Axes>"
      ]
     },
     "metadata": {
      "needs_background": "light"
     },
     "output_type": "display_data"
    }
   ],
   "source": [
    "# show some images\n",
    "plt.figure()\n",
    "for i in range(2):\n",
    "    plt.subplot(2, 5, i + 1)\n",
    "    image, name = data.__getitem__(i)\n",
    "    print(name)\n",
    "    #image.show()\n",
    "    plt.imshow(image)"
   ]
  },
  {
   "cell_type": "code",
   "execution_count": 24,
   "metadata": {},
   "outputs": [],
   "source": [
    "train_path = path + '/*.jpg'\n",
    "# read addresses and labels from the 'train' folder\n",
    "addrs = glob.glob(train_path)"
   ]
  },
  {
   "cell_type": "code",
   "execution_count": 25,
   "metadata": {},
   "outputs": [
    {
     "data": {
      "text/plain": [
       "['/home/aims/Documents/AMMI-tutorials/Pytorch/train/dog.9901.jpg',\n",
       " '/home/aims/Documents/AMMI-tutorials/Pytorch/train/dog.8021.jpg',\n",
       " '/home/aims/Documents/AMMI-tutorials/Pytorch/train/cat.145.jpg',\n",
       " '/home/aims/Documents/AMMI-tutorials/Pytorch/train/cat.11811.jpg',\n",
       " '/home/aims/Documents/AMMI-tutorials/Pytorch/train/dog.3888.jpg']"
      ]
     },
     "execution_count": 25,
     "metadata": {},
     "output_type": "execute_result"
    }
   ],
   "source": [
    "addrs[:5]"
   ]
  },
  {
   "cell_type": "code",
   "execution_count": 26,
   "metadata": {},
   "outputs": [],
   "source": [
    "labels = [ [1,0] if 'cat' in addr else [0,1] for addr in addrs]"
   ]
  },
  {
   "cell_type": "code",
   "execution_count": 27,
   "metadata": {},
   "outputs": [
    {
     "data": {
      "text/plain": [
       "[[0, 1], [0, 1], [1, 0]]"
      ]
     },
     "execution_count": 27,
     "metadata": {},
     "output_type": "execute_result"
    }
   ],
   "source": [
    "labels[:3]"
   ]
  },
  {
   "cell_type": "code",
   "execution_count": 73,
   "metadata": {},
   "outputs": [],
   "source": [
    "def splitData(train_path, shuffle_data = True):\n",
    "    \n",
    "    # read addresses and labels from the 'train' folder\n",
    "    addrs = glob.glob(train_path)\n",
    "    labels = [ [1,0] if 'cat' in addr else [0,1] for addr in addrs]  # 1 = Cat, 0 = Dog\n",
    "    # to shuffle data\n",
    "    if shuffle_data:\n",
    "        c = list(zip(addrs, labels))\n",
    "        shuffle(c)\n",
    "        addrs, labels = zip(*c)\n",
    "        #print(labels[0:10])\n",
    "\n",
    "    # Divide the hata into 60% train, 20% validation, and 20% test\n",
    "    train_addrs = addrs[0:int(0.6*len(addrs))]\n",
    "    train_labels = labels[0:int(0.6*len(labels))]\n",
    "    #train_addrs.size\n",
    "\n",
    "    val_addrs = addrs[int(0.6*len(addrs)):int(0.8*len(addrs))]\n",
    "    val_labels = labels[int(0.6*len(addrs)):int(0.8*len(addrs))]\n",
    "\n",
    "    test_addrs = addrs[int(0.8*len(addrs)):]\n",
    "    test_labels = labels[int(0.8*len(labels)):]\n",
    "    \n",
    "    return train_addrs, train_labels, test_addrs, val_addrs, labels"
   ]
  },
  {
   "cell_type": "code",
   "execution_count": 74,
   "metadata": {},
   "outputs": [],
   "source": [
    "def resizeImage(file, labels):\n",
    "    data = []\n",
    "    for i in range(len(file[:1000])):\n",
    "        # read an image and resize to (64, 64)\n",
    "        # cv2 load images as BGR, convert it to RGB\n",
    "        addr = file[i]\n",
    "        img = cv2.imread(addr)\n",
    "        img = cv2.resize(img, (64, 64), interpolation=cv2.INTER_CUBIC)\n",
    "        img = cv2.cvtColor(img, cv2.COLOR_BGR2RGB)\n",
    "        data.append([np.array(img), np.array(labels[i])])\n",
    "    shuffle(data)\n",
    "    #np.save(filename+'.npy', data)\n",
    "    return data"
   ]
  },
  {
   "cell_type": "code",
   "execution_count": 75,
   "metadata": {},
   "outputs": [],
   "source": [
    "train_addrs, train_labels, test_addrs, val_addrs, labels = splitData(train_path)"
   ]
  },
  {
   "cell_type": "code",
   "execution_count": 76,
   "metadata": {},
   "outputs": [],
   "source": [
    "train_data = resizeImage(train_addrs, train_labels)\n",
    "test_data = resizeImage(test_addrs, labels)\n",
    "val_data = resizeImage(val_addrs, labels)"
   ]
  },
  {
   "cell_type": "code",
   "execution_count": 77,
   "metadata": {},
   "outputs": [
    {
     "name": "stdout",
     "output_type": "stream",
     "text": [
      "torch.Size([1000, 3, 64, 64])\n",
      "torch.Size([1000, 2])\n"
     ]
    }
   ],
   "source": [
    "X = np.array([i[0] for i in train_data]).reshape(-1,64,64,3)\n",
    "X = Variable(torch.Tensor(X))\n",
    "X = X.reshape(-1,64,64,3)\n",
    "X = X.permute(0,3,1,2)\n",
    "print(X.shape)\n",
    "#Y = Variable(torch.Tensor(Y))\n",
    "\n",
    "Y = np.array([i[1] for i in train_data])\n",
    "target = Variable(torch.Tensor(Y))\n",
    "target = target.type(torch.LongTensor)\n",
    "\n",
    "print(target.shape)\n",
    "#print(target)"
   ]
  },
  {
   "cell_type": "code",
   "execution_count": 78,
   "metadata": {},
   "outputs": [],
   "source": [
    "cnn = CNN()"
   ]
  },
  {
   "cell_type": "code",
   "execution_count": 79,
   "metadata": {},
   "outputs": [],
   "source": [
    "criterian = nn.CrossEntropyLoss()\n",
    "optimizer = optim.SGD(cnn.parameters(), lr = 0.0001, momentum = 0.9)"
   ]
  },
  {
   "cell_type": "code",
   "execution_count": 80,
   "metadata": {},
   "outputs": [
    {
     "name": "stderr",
     "output_type": "stream",
     "text": [
      "/home/aims/.local/lib/python3.7/site-packages/torch/nn/functional.py:1351: UserWarning: nn.functional.sigmoid is deprecated. Use torch.sigmoid instead.\n",
      "  warnings.warn(\"nn.functional.sigmoid is deprecated. Use torch.sigmoid instead.\")\n"
     ]
    },
    {
     "name": "stdout",
     "output_type": "stream",
     "text": [
      "0 : 0.6992244124412537\n",
      "1 : 0.6960359811782837\n",
      "2 : 0.6927765607833862\n",
      "3 : 0.6911863684654236\n",
      "4 : 0.6907235383987427\n",
      "5 : 0.6903136372566223\n",
      "6 : 0.6893091797828674\n",
      "7 : 0.687664806842804\n",
      "8 : 0.6855743527412415\n",
      "9 : 0.6832512617111206\n"
     ]
    }
   ],
   "source": [
    "for epoch in range(10):\n",
    "    running_loss  = 0.0\n",
    "    optimizer.zero_grad() #zero the parameter gradients\n",
    "    output = cnn(X)\n",
    "    \n",
    "    loss = criterian(output, torch.max(target, 1)[1])\n",
    "    \n",
    "    loss.backward()\n",
    "    optimizer.step()\n",
    "    running_loss += loss.item()\n",
    "    print(epoch, ':', running_loss)"
   ]
  },
  {
   "cell_type": "code",
   "execution_count": 81,
   "metadata": {},
   "outputs": [
    {
     "name": "stdout",
     "output_type": "stream",
     "text": [
      "torch.Size([1000, 3, 64, 64])\n",
      "torch.Size([1000, 2])\n",
      "tensor([[0, 1],\n",
      "        [0, 1],\n",
      "        [0, 1],\n",
      "        ...,\n",
      "        [0, 1],\n",
      "        [1, 0],\n",
      "        [0, 1]])\n"
     ]
    }
   ],
   "source": [
    "test = np.array([i[0] for i in test_data]).reshape(-1,64,64,3)\n",
    "test = Variable(torch.Tensor(test))\n",
    "test = test.reshape(-1,64,64,3)\n",
    "test = test.permute(0,3,1,2)\n",
    "print(test.shape)\n",
    "#Y = Variable(torch.Tensor(Y))\n",
    "\n",
    "tlabels = np.array([i[1] for i in test_data])\n",
    "tlabels = Variable(torch.Tensor(tlabels))\n",
    "tlabels = tlabels.type(torch.long)\n",
    "\n",
    "print(tlabels.shape)\n",
    "print(tlabels)"
   ]
  },
  {
   "cell_type": "code",
   "execution_count": 85,
   "metadata": {},
   "outputs": [
    {
     "name": "stderr",
     "output_type": "stream",
     "text": [
      "/home/aims/.local/lib/python3.7/site-packages/torch/nn/functional.py:1351: UserWarning: nn.functional.sigmoid is deprecated. Use torch.sigmoid instead.\n",
      "  warnings.warn(\"nn.functional.sigmoid is deprecated. Use torch.sigmoid instead.\")\n"
     ]
    },
    {
     "name": "stdout",
     "output_type": "stream",
     "text": [
      "Train accuracy of the network on the1000train images: 57.400000 %\n",
      "574 1000\n"
     ]
    }
   ],
   "source": [
    "correct = 0\n",
    "total = 0\n",
    "with torch.no_grad():\n",
    "    for data in zip(X,target):\n",
    "        images, labels = data\n",
    "        images = images.reshape(1,3,64,64)\n",
    "        outputs = cnn(images)\n",
    "        _, predicted = torch.max(outputs, 1)\n",
    "        #total += labels.size(0)\n",
    "        if((predicted == 0 and labels[0] == 1) or (predicted == 1 and labels[1]==1) ):\n",
    "            correct+=1\n",
    "        #correct += (predicted == labels).sum().item()\n",
    "        #print(outputs,labels)\n",
    "total = X.shape[0]\n",
    "print('Train accuracy of the network on the' + str(total) +  'train images: %f %%' % (\n",
    "    100 * (correct*1.0) / total) )\n",
    "print(correct, total)"
   ]
  },
  {
   "cell_type": "code",
   "execution_count": 83,
   "metadata": {},
   "outputs": [
    {
     "name": "stderr",
     "output_type": "stream",
     "text": [
      "/home/aims/.local/lib/python3.7/site-packages/torch/nn/functional.py:1351: UserWarning: nn.functional.sigmoid is deprecated. Use torch.sigmoid instead.\n",
      "  warnings.warn(\"nn.functional.sigmoid is deprecated. Use torch.sigmoid instead.\")\n"
     ]
    },
    {
     "name": "stdout",
     "output_type": "stream",
     "text": [
      "Test accuracy of the network on the 1000 test images: 53.100000 %\n",
      "531 1000\n"
     ]
    }
   ],
   "source": [
    "correct = 0\n",
    "total = 0\n",
    "with torch.no_grad():\n",
    "    for data in zip(test,tlabels):\n",
    "        images, labels = data\n",
    "        images = images.reshape(1,3,64,64)\n",
    "        outputs = cnn(images)\n",
    "        _, predicted = torch.max(outputs, 1)\n",
    "        #total += labels.size(0)\n",
    "        if((predicted == 0 and labels[0] == 1) or (predicted == 1 and labels[1]==1) ):\n",
    "            correct += 1\n",
    "            \n",
    "total = test.shape[0]\n",
    "print('Test accuracy of the network on the ' + str(total) +  ' test images: %f %%' % (\n",
    "    100 * (correct*1.0) / total) )\n",
    "print(correct, total)"
   ]
  },
  {
   "cell_type": "code",
   "execution_count": null,
   "metadata": {},
   "outputs": [],
   "source": []
  },
  {
   "cell_type": "code",
   "execution_count": null,
   "metadata": {},
   "outputs": [],
   "source": []
  },
  {
   "cell_type": "code",
   "execution_count": null,
   "metadata": {},
   "outputs": [],
   "source": []
  },
  {
   "cell_type": "markdown",
   "metadata": {},
   "source": [
    "# Create the model classes"
   ]
  },
  {
   "cell_type": "code",
   "execution_count": 57,
   "metadata": {},
   "outputs": [],
   "source": [
    "class CNN(nn.Module):\n",
    "    def __init__(self):\n",
    "        super(CNN, self).__init__()\n",
    "        #self.n_feature = n_feature\n",
    "        self.conv1 = nn.Conv2d(in_channels=3, out_channels=50, kernel_size=5)\n",
    "        self.conv2 = nn.Conv2d(50, 100, kernel_size=7)\n",
    "        self.fc1 = nn.Linear(100 * 12 * 12, 120)\n",
    "        self.fc2 = nn.Linear(120, 100)\n",
    "        self.fc3 = nn.Linear(100, 2)\n",
    "        \n",
    "    def forward(self, x, verbose=False):\n",
    "        x = self.conv1(x)\n",
    "        x = F.relu(x)\n",
    "        x = F.max_pool2d(x, kernel_size=2)\n",
    "        x = self.conv2(x)\n",
    "        x = F.relu(x)\n",
    "        x = F.max_pool2d(x, kernel_size=2)\n",
    "        x = x.view(-1, 100 * 12 * 12)\n",
    "        x = self.fc1(x)\n",
    "        x = F.relu(x)\n",
    "        x = self.fc2(x)\n",
    "        x = F.relu(x)\n",
    "        x = self.fc3(x)\n",
    "        x = F.sigmoid(x)\n",
    "        return x"
   ]
  },
  {
   "cell_type": "code",
   "execution_count": 58,
   "metadata": {},
   "outputs": [
    {
     "name": "stdout",
     "output_type": "stream",
     "text": [
      "CNN(\n",
      "  (conv1): Conv2d(3, 50, kernel_size=(5, 5), stride=(1, 1))\n",
      "  (conv2): Conv2d(50, 100, kernel_size=(7, 7), stride=(1, 1))\n",
      "  (fc1): Linear(in_features=14400, out_features=120, bias=True)\n",
      "  (fc2): Linear(in_features=120, out_features=100, bias=True)\n",
      "  (fc3): Linear(in_features=100, out_features=2, bias=True)\n",
      ")\n"
     ]
    }
   ],
   "source": [
    "cnn = CNN()\n",
    "print(cnn)"
   ]
  },
  {
   "cell_type": "code",
   "execution_count": null,
   "metadata": {},
   "outputs": [],
   "source": []
  },
  {
   "cell_type": "code",
   "execution_count": null,
   "metadata": {},
   "outputs": [],
   "source": []
  }
 ],
 "metadata": {
  "kernelspec": {
   "display_name": "Python 3",
   "language": "python",
   "name": "python3"
  },
  "language_info": {
   "codemirror_mode": {
    "name": "ipython",
    "version": 3
   },
   "file_extension": ".py",
   "mimetype": "text/x-python",
   "name": "python",
   "nbconvert_exporter": "python",
   "pygments_lexer": "ipython3",
   "version": "3.7.3"
  }
 },
 "nbformat": 4,
 "nbformat_minor": 4
}
